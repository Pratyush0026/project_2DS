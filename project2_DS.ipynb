{
 "cells": [
  {
   "cell_type": "markdown",
   "id": "13ee45ab",
   "metadata": {},
   "source": [
    "# Title: Student Attitude and Behavior Analysis\n",
    "\n",
    "## Introduction:\n",
    "\n",
    "### The \"Student Attitude and Behavior Analysis\" project explores the factors influencing student performance and behavior in academic settings. This analysis delves into various aspects such as demographics, academic performance, study habits, and social behavior to understand their impact on students' attitudes and behaviors towards education."
   ]
  },
  {
   "cell_type": "markdown",
   "id": "7a930fb7",
   "metadata": {},
   "source": [
    "## 1.Loading the Data:\n"
   ]
  },
  {
   "cell_type": "code",
   "execution_count": 2,
   "id": "6cbb0b4f",
   "metadata": {},
   "outputs": [
    {
     "data": {
      "text/html": [
       "<div>\n",
       "<style scoped>\n",
       "    .dataframe tbody tr th:only-of-type {\n",
       "        vertical-align: middle;\n",
       "    }\n",
       "\n",
       "    .dataframe tbody tr th {\n",
       "        vertical-align: top;\n",
       "    }\n",
       "\n",
       "    .dataframe thead th {\n",
       "        text-align: right;\n",
       "    }\n",
       "</style>\n",
       "<table border=\"1\" class=\"dataframe\">\n",
       "  <thead>\n",
       "    <tr style=\"text-align: right;\">\n",
       "      <th></th>\n",
       "      <th>Certification Course</th>\n",
       "      <th>Gender</th>\n",
       "      <th>Department</th>\n",
       "      <th>Height(CM)</th>\n",
       "      <th>Weight(KG)</th>\n",
       "      <th>10th Mark</th>\n",
       "      <th>12th Mark</th>\n",
       "      <th>college mark</th>\n",
       "      <th>hobbies</th>\n",
       "      <th>daily studing time</th>\n",
       "      <th>prefer to study in</th>\n",
       "      <th>salary expectation</th>\n",
       "      <th>Do you like your degree?</th>\n",
       "      <th>willingness to pursue a career based on their degree</th>\n",
       "      <th>social medai &amp; video</th>\n",
       "      <th>Travelling Time</th>\n",
       "      <th>Stress Level</th>\n",
       "      <th>Financial Status</th>\n",
       "      <th>part-time job</th>\n",
       "    </tr>\n",
       "  </thead>\n",
       "  <tbody>\n",
       "    <tr>\n",
       "      <th>0</th>\n",
       "      <td>No</td>\n",
       "      <td>Male</td>\n",
       "      <td>BCA</td>\n",
       "      <td>100.0</td>\n",
       "      <td>58.0</td>\n",
       "      <td>79.0</td>\n",
       "      <td>64.0</td>\n",
       "      <td>80.0</td>\n",
       "      <td>Video Games</td>\n",
       "      <td>0 - 30 minute</td>\n",
       "      <td>Morning</td>\n",
       "      <td>40000</td>\n",
       "      <td>No</td>\n",
       "      <td>50%</td>\n",
       "      <td>1.30 - 2 hour</td>\n",
       "      <td>30 - 60 minutes</td>\n",
       "      <td>Bad</td>\n",
       "      <td>Bad</td>\n",
       "      <td>No</td>\n",
       "    </tr>\n",
       "    <tr>\n",
       "      <th>1</th>\n",
       "      <td>No</td>\n",
       "      <td>Female</td>\n",
       "      <td>BCA</td>\n",
       "      <td>90.0</td>\n",
       "      <td>40.0</td>\n",
       "      <td>70.0</td>\n",
       "      <td>80.0</td>\n",
       "      <td>70.0</td>\n",
       "      <td>Cinema</td>\n",
       "      <td>30 - 60 minute</td>\n",
       "      <td>Morning</td>\n",
       "      <td>15000</td>\n",
       "      <td>Yes</td>\n",
       "      <td>75%</td>\n",
       "      <td>1 - 1.30 hour</td>\n",
       "      <td>0 - 30 minutes</td>\n",
       "      <td>Bad</td>\n",
       "      <td>Bad</td>\n",
       "      <td>No</td>\n",
       "    </tr>\n",
       "    <tr>\n",
       "      <th>2</th>\n",
       "      <td>Yes</td>\n",
       "      <td>Male</td>\n",
       "      <td>BCA</td>\n",
       "      <td>159.0</td>\n",
       "      <td>78.0</td>\n",
       "      <td>71.0</td>\n",
       "      <td>61.0</td>\n",
       "      <td>55.0</td>\n",
       "      <td>Cinema</td>\n",
       "      <td>1 - 2 Hour</td>\n",
       "      <td>Anytime</td>\n",
       "      <td>13000</td>\n",
       "      <td>Yes</td>\n",
       "      <td>50%</td>\n",
       "      <td>More than 2 hour</td>\n",
       "      <td>30 - 60 minutes</td>\n",
       "      <td>Awful</td>\n",
       "      <td>Bad</td>\n",
       "      <td>No</td>\n",
       "    </tr>\n",
       "    <tr>\n",
       "      <th>3</th>\n",
       "      <td>Yes</td>\n",
       "      <td>Female</td>\n",
       "      <td>BCA</td>\n",
       "      <td>147.0</td>\n",
       "      <td>20.0</td>\n",
       "      <td>70.0</td>\n",
       "      <td>59.0</td>\n",
       "      <td>58.0</td>\n",
       "      <td>Reading books</td>\n",
       "      <td>1 - 2 Hour</td>\n",
       "      <td>Anytime</td>\n",
       "      <td>1500000</td>\n",
       "      <td>No</td>\n",
       "      <td>50%</td>\n",
       "      <td>1.30 - 2 hour</td>\n",
       "      <td>0 - 30 minutes</td>\n",
       "      <td>Bad</td>\n",
       "      <td>good</td>\n",
       "      <td>No</td>\n",
       "    </tr>\n",
       "    <tr>\n",
       "      <th>4</th>\n",
       "      <td>No</td>\n",
       "      <td>Male</td>\n",
       "      <td>BCA</td>\n",
       "      <td>170.0</td>\n",
       "      <td>54.0</td>\n",
       "      <td>40.0</td>\n",
       "      <td>65.0</td>\n",
       "      <td>30.0</td>\n",
       "      <td>Video Games</td>\n",
       "      <td>30 - 60 minute</td>\n",
       "      <td>Morning</td>\n",
       "      <td>50000</td>\n",
       "      <td>Yes</td>\n",
       "      <td>25%</td>\n",
       "      <td>1.30 - 2 hour</td>\n",
       "      <td>30 - 60 minutes</td>\n",
       "      <td>Good</td>\n",
       "      <td>good</td>\n",
       "      <td>No</td>\n",
       "    </tr>\n",
       "  </tbody>\n",
       "</table>\n",
       "</div>"
      ],
      "text/plain": [
       "  Certification Course  Gender Department  Height(CM)  Weight(KG)  10th Mark  \\\n",
       "0                   No    Male        BCA       100.0        58.0       79.0   \n",
       "1                   No  Female        BCA        90.0        40.0       70.0   \n",
       "2                  Yes    Male        BCA       159.0        78.0       71.0   \n",
       "3                  Yes  Female        BCA       147.0        20.0       70.0   \n",
       "4                   No    Male        BCA       170.0        54.0       40.0   \n",
       "\n",
       "   12th Mark  college mark        hobbies daily studing time  \\\n",
       "0       64.0          80.0    Video Games      0 - 30 minute   \n",
       "1       80.0          70.0         Cinema     30 - 60 minute   \n",
       "2       61.0          55.0         Cinema         1 - 2 Hour   \n",
       "3       59.0          58.0  Reading books         1 - 2 Hour   \n",
       "4       65.0          30.0    Video Games     30 - 60 minute   \n",
       "\n",
       "  prefer to study in  salary expectation Do you like your degree?  \\\n",
       "0            Morning               40000                       No   \n",
       "1            Morning               15000                      Yes   \n",
       "2            Anytime               13000                      Yes   \n",
       "3            Anytime             1500000                       No   \n",
       "4            Morning               50000                      Yes   \n",
       "\n",
       "  willingness to pursue a career based on their degree   social medai & video  \\\n",
       "0                                                50%            1.30 - 2 hour   \n",
       "1                                                75%            1 - 1.30 hour   \n",
       "2                                                50%         More than 2 hour   \n",
       "3                                                50%            1.30 - 2 hour   \n",
       "4                                                25%            1.30 - 2 hour   \n",
       "\n",
       "  Travelling Time  Stress Level  Financial Status part-time job  \n",
       "0  30 - 60 minutes           Bad              Bad            No  \n",
       "1   0 - 30 minutes           Bad              Bad            No  \n",
       "2  30 - 60 minutes         Awful              Bad            No  \n",
       "3   0 - 30 minutes           Bad             good            No  \n",
       "4  30 - 60 minutes          Good             good            No  "
      ]
     },
     "execution_count": 2,
     "metadata": {},
     "output_type": "execute_result"
    }
   ],
   "source": [
    "import pandas as pd\n",
    "\n",
    "# Load the dataset\n",
    "data = pd.read_csv(\"Student Attitude and Behavior.csv\")\n",
    "\n",
    "data.head()"
   ]
  },
  {
   "cell_type": "code",
   "execution_count": 4,
   "id": "34bd78a8",
   "metadata": {},
   "outputs": [
    {
     "data": {
      "text/plain": [
       "Index(['Certification Course', 'Gender', 'Department', 'Height(CM)',\n",
       "       'Weight(KG)', '10th Mark', '12th Mark', 'college mark', 'hobbies',\n",
       "       'daily studing time', 'prefer to study in', 'salary expectation',\n",
       "       'Do you like your degree?',\n",
       "       'willingness to pursue a career based on their degree  ',\n",
       "       'social medai & video', 'Travelling Time ', 'Stress Level ',\n",
       "       'Financial Status', 'part-time job'],\n",
       "      dtype='object')"
      ]
     },
     "execution_count": 4,
     "metadata": {},
     "output_type": "execute_result"
    }
   ],
   "source": [
    "data.columns"
   ]
  },
  {
   "cell_type": "markdown",
   "id": "2d385948",
   "metadata": {},
   "source": [
    "# 2.Preprocessing "
   ]
  },
  {
   "cell_type": "markdown",
   "id": "ed6edda7",
   "metadata": {},
   "source": [
    "## Handling Missing Values (Imputation):"
   ]
  },
  {
   "cell_type": "code",
   "execution_count": 5,
   "id": "01b2fa46",
   "metadata": {},
   "outputs": [
    {
     "data": {
      "text/html": [
       "<div>\n",
       "<style scoped>\n",
       "    .dataframe tbody tr th:only-of-type {\n",
       "        vertical-align: middle;\n",
       "    }\n",
       "\n",
       "    .dataframe tbody tr th {\n",
       "        vertical-align: top;\n",
       "    }\n",
       "\n",
       "    .dataframe thead th {\n",
       "        text-align: right;\n",
       "    }\n",
       "</style>\n",
       "<table border=\"1\" class=\"dataframe\">\n",
       "  <thead>\n",
       "    <tr style=\"text-align: right;\">\n",
       "      <th></th>\n",
       "      <th>Certification Course</th>\n",
       "      <th>Gender</th>\n",
       "      <th>Department</th>\n",
       "      <th>Height(CM)</th>\n",
       "      <th>Weight(KG)</th>\n",
       "      <th>10th Mark</th>\n",
       "      <th>12th Mark</th>\n",
       "      <th>college mark</th>\n",
       "      <th>hobbies</th>\n",
       "      <th>daily studing time</th>\n",
       "      <th>prefer to study in</th>\n",
       "      <th>salary expectation</th>\n",
       "      <th>Do you like your degree?</th>\n",
       "      <th>willingness to pursue a career based on their degree</th>\n",
       "      <th>social medai &amp; video</th>\n",
       "      <th>Travelling Time</th>\n",
       "      <th>Stress Level</th>\n",
       "      <th>Financial Status</th>\n",
       "      <th>part-time job</th>\n",
       "    </tr>\n",
       "  </thead>\n",
       "  <tbody>\n",
       "    <tr>\n",
       "      <th>0</th>\n",
       "      <td>No</td>\n",
       "      <td>Male</td>\n",
       "      <td>BCA</td>\n",
       "      <td>100.0</td>\n",
       "      <td>58.0</td>\n",
       "      <td>79.0</td>\n",
       "      <td>64.0</td>\n",
       "      <td>80.0</td>\n",
       "      <td>Video Games</td>\n",
       "      <td>0 - 30 minute</td>\n",
       "      <td>Morning</td>\n",
       "      <td>40000.0</td>\n",
       "      <td>No</td>\n",
       "      <td>50%</td>\n",
       "      <td>1.30 - 2 hour</td>\n",
       "      <td>30 - 60 minutes</td>\n",
       "      <td>Bad</td>\n",
       "      <td>Bad</td>\n",
       "      <td>No</td>\n",
       "    </tr>\n",
       "    <tr>\n",
       "      <th>1</th>\n",
       "      <td>No</td>\n",
       "      <td>Female</td>\n",
       "      <td>BCA</td>\n",
       "      <td>90.0</td>\n",
       "      <td>40.0</td>\n",
       "      <td>70.0</td>\n",
       "      <td>80.0</td>\n",
       "      <td>70.0</td>\n",
       "      <td>Cinema</td>\n",
       "      <td>30 - 60 minute</td>\n",
       "      <td>Morning</td>\n",
       "      <td>15000.0</td>\n",
       "      <td>Yes</td>\n",
       "      <td>75%</td>\n",
       "      <td>1 - 1.30 hour</td>\n",
       "      <td>0 - 30 minutes</td>\n",
       "      <td>Bad</td>\n",
       "      <td>Bad</td>\n",
       "      <td>No</td>\n",
       "    </tr>\n",
       "    <tr>\n",
       "      <th>2</th>\n",
       "      <td>Yes</td>\n",
       "      <td>Male</td>\n",
       "      <td>BCA</td>\n",
       "      <td>159.0</td>\n",
       "      <td>78.0</td>\n",
       "      <td>71.0</td>\n",
       "      <td>61.0</td>\n",
       "      <td>55.0</td>\n",
       "      <td>Cinema</td>\n",
       "      <td>1 - 2 Hour</td>\n",
       "      <td>Anytime</td>\n",
       "      <td>13000.0</td>\n",
       "      <td>Yes</td>\n",
       "      <td>50%</td>\n",
       "      <td>More than 2 hour</td>\n",
       "      <td>30 - 60 minutes</td>\n",
       "      <td>Awful</td>\n",
       "      <td>Bad</td>\n",
       "      <td>No</td>\n",
       "    </tr>\n",
       "    <tr>\n",
       "      <th>3</th>\n",
       "      <td>Yes</td>\n",
       "      <td>Female</td>\n",
       "      <td>BCA</td>\n",
       "      <td>147.0</td>\n",
       "      <td>20.0</td>\n",
       "      <td>70.0</td>\n",
       "      <td>59.0</td>\n",
       "      <td>58.0</td>\n",
       "      <td>Reading books</td>\n",
       "      <td>1 - 2 Hour</td>\n",
       "      <td>Anytime</td>\n",
       "      <td>1500000.0</td>\n",
       "      <td>No</td>\n",
       "      <td>50%</td>\n",
       "      <td>1.30 - 2 hour</td>\n",
       "      <td>0 - 30 minutes</td>\n",
       "      <td>Bad</td>\n",
       "      <td>good</td>\n",
       "      <td>No</td>\n",
       "    </tr>\n",
       "    <tr>\n",
       "      <th>4</th>\n",
       "      <td>No</td>\n",
       "      <td>Male</td>\n",
       "      <td>BCA</td>\n",
       "      <td>170.0</td>\n",
       "      <td>54.0</td>\n",
       "      <td>40.0</td>\n",
       "      <td>65.0</td>\n",
       "      <td>30.0</td>\n",
       "      <td>Video Games</td>\n",
       "      <td>30 - 60 minute</td>\n",
       "      <td>Morning</td>\n",
       "      <td>50000.0</td>\n",
       "      <td>Yes</td>\n",
       "      <td>25%</td>\n",
       "      <td>1.30 - 2 hour</td>\n",
       "      <td>30 - 60 minutes</td>\n",
       "      <td>Good</td>\n",
       "      <td>good</td>\n",
       "      <td>No</td>\n",
       "    </tr>\n",
       "  </tbody>\n",
       "</table>\n",
       "</div>"
      ],
      "text/plain": [
       "  Certification Course  Gender Department  Height(CM)  Weight(KG)  10th Mark  \\\n",
       "0                   No    Male        BCA       100.0        58.0       79.0   \n",
       "1                   No  Female        BCA        90.0        40.0       70.0   \n",
       "2                  Yes    Male        BCA       159.0        78.0       71.0   \n",
       "3                  Yes  Female        BCA       147.0        20.0       70.0   \n",
       "4                   No    Male        BCA       170.0        54.0       40.0   \n",
       "\n",
       "   12th Mark  college mark        hobbies daily studing time  \\\n",
       "0       64.0          80.0    Video Games      0 - 30 minute   \n",
       "1       80.0          70.0         Cinema     30 - 60 minute   \n",
       "2       61.0          55.0         Cinema         1 - 2 Hour   \n",
       "3       59.0          58.0  Reading books         1 - 2 Hour   \n",
       "4       65.0          30.0    Video Games     30 - 60 minute   \n",
       "\n",
       "  prefer to study in  salary expectation Do you like your degree?  \\\n",
       "0            Morning             40000.0                       No   \n",
       "1            Morning             15000.0                      Yes   \n",
       "2            Anytime             13000.0                      Yes   \n",
       "3            Anytime           1500000.0                       No   \n",
       "4            Morning             50000.0                      Yes   \n",
       "\n",
       "  willingness to pursue a career based on their degree   social medai & video  \\\n",
       "0                                                50%            1.30 - 2 hour   \n",
       "1                                                75%            1 - 1.30 hour   \n",
       "2                                                50%         More than 2 hour   \n",
       "3                                                50%            1.30 - 2 hour   \n",
       "4                                                25%            1.30 - 2 hour   \n",
       "\n",
       "  Travelling Time  Stress Level  Financial Status part-time job  \n",
       "0  30 - 60 minutes           Bad              Bad            No  \n",
       "1   0 - 30 minutes           Bad              Bad            No  \n",
       "2  30 - 60 minutes         Awful              Bad            No  \n",
       "3   0 - 30 minutes           Bad             good            No  \n",
       "4  30 - 60 minutes          Good             good            No  "
      ]
     },
     "execution_count": 5,
     "metadata": {},
     "output_type": "execute_result"
    }
   ],
   "source": [
    "from sklearn.impute import SimpleImputer\n",
    "\n",
    "numerical_cols = ['Height(CM)', 'Weight(KG)', '10th Mark', '12th Mark', 'college mark', 'salary expectation']\n",
    "categorical_cols = ['Certification Course', 'Gender', 'Department', 'hobbies', 'daily studing time',\n",
    "                    'prefer to study in', 'Do you like your degree?',\n",
    "                    'willingness to pursue a career based on their degree  ',\n",
    "                    'social medai & video', 'Travelling Time ', 'Stress Level ', 'Financial Status', 'part-time job']\n",
    "\n",
    "imputer = SimpleImputer(strategy='mean')\n",
    "data[numerical_cols] = imputer.fit_transform(data[numerical_cols])\n",
    "\n",
    "imputer = SimpleImputer(strategy='most_frequent')\n",
    "data[categorical_cols] = imputer.fit_transform(data[categorical_cols])\n",
    "\n",
    "data.head()\n"
   ]
  },
  {
   "cell_type": "markdown",
   "id": "dba86643",
   "metadata": {},
   "source": [
    "## One hot Encoding"
   ]
  },
  {
   "cell_type": "code",
   "execution_count": 27,
   "id": "41170ec8",
   "metadata": {},
   "outputs": [
    {
     "name": "stdout",
     "output_type": "stream",
     "text": [
      "One-hot encoded data:\n",
      "   Certification Course_No  Certification Course_Yes  Gender_Female  \\\n",
      "0                      1.0                       0.0            0.0   \n",
      "1                      1.0                       0.0            1.0   \n",
      "2                      0.0                       1.0            0.0   \n",
      "3                      0.0                       1.0            1.0   \n",
      "4                      1.0                       0.0            0.0   \n",
      "\n",
      "   Gender_Male  Department_B.com Accounting and Finance   \\\n",
      "0          1.0                                       0.0   \n",
      "1          0.0                                       0.0   \n",
      "2          1.0                                       0.0   \n",
      "3          0.0                                       0.0   \n",
      "4          1.0                                       0.0   \n",
      "\n",
      "   Department_B.com ISM  Department_BCA  Department_Commerce  hobbies_Cinema  \\\n",
      "0                   0.0             1.0                  0.0             0.0   \n",
      "1                   0.0             1.0                  0.0             1.0   \n",
      "2                   0.0             1.0                  0.0             1.0   \n",
      "3                   0.0             1.0                  0.0             0.0   \n",
      "4                   0.0             1.0                  0.0             0.0   \n",
      "\n",
      "   hobbies_Reading books  ...  Stress Level _Awful  Stress Level _Bad  \\\n",
      "0                    0.0  ...                  0.0                1.0   \n",
      "1                    0.0  ...                  0.0                1.0   \n",
      "2                    0.0  ...                  1.0                0.0   \n",
      "3                    1.0  ...                  0.0                1.0   \n",
      "4                    0.0  ...                  0.0                0.0   \n",
      "\n",
      "   Stress Level _Good  Stress Level _fabulous  Financial Status_Awful  \\\n",
      "0                 0.0                     0.0                     0.0   \n",
      "1                 0.0                     0.0                     0.0   \n",
      "2                 0.0                     0.0                     0.0   \n",
      "3                 0.0                     0.0                     0.0   \n",
      "4                 1.0                     0.0                     0.0   \n",
      "\n",
      "   Financial Status_Bad  Financial Status_Fabulous  Financial Status_good  \\\n",
      "0                   1.0                        0.0                    0.0   \n",
      "1                   1.0                        0.0                    0.0   \n",
      "2                   1.0                        0.0                    0.0   \n",
      "3                   0.0                        0.0                    1.0   \n",
      "4                   0.0                        0.0                    1.0   \n",
      "\n",
      "   part-time job_No  part-time job_Yes  \n",
      "0               1.0                0.0  \n",
      "1               1.0                0.0  \n",
      "2               1.0                0.0  \n",
      "3               1.0                0.0  \n",
      "4               1.0                0.0  \n",
      "\n",
      "[5 rows x 51 columns]\n"
     ]
    }
   ],
   "source": [
    "import pandas as pd\n",
    "from sklearn.preprocessing import OneHotEncoder, LabelEncoder\n",
    "\n",
    "\n",
    "data = pd.read_csv(\"Student Attitude and Behavior.csv\")\n",
    "\n",
    "categorical_cols = ['Certification Course', 'Gender', 'Department', 'hobbies', 'daily studing time',\n",
    "                    'prefer to study in', 'Do you like your degree?',\n",
    "                    'willingness to pursue a career based on their degree  ',\n",
    "                    'social medai & video', 'Travelling Time ', 'Stress Level ', 'Financial Status', 'part-time job']\n",
    "\n",
    "\n",
    "one_hot_encoder = OneHotEncoder(sparse=False, handle_unknown='ignore')\n",
    "\n",
    "\n",
    "one_hot_encoded_data = one_hot_encoder.fit_transform(data[categorical_cols])\n",
    "\n",
    "\n",
    "one_hot_encoded_df = pd.DataFrame(one_hot_encoded_data, columns=one_hot_encoder.get_feature_names_out(categorical_cols))\n",
    "\n",
    "print(\"One-hot encoded data:\")\n",
    "print(one_hot_encoded_df.head())\n"
   ]
  },
  {
   "cell_type": "markdown",
   "id": "a85547fd",
   "metadata": {},
   "source": [
    "## Label Encoding"
   ]
  },
  {
   "cell_type": "code",
   "execution_count": 7,
   "id": "833d5b6f",
   "metadata": {},
   "outputs": [
    {
     "name": "stdout",
     "output_type": "stream",
     "text": [
      "\n",
      "Label encoded data:\n",
      "   Certification Course  Gender  Department  hobbies  daily studing time  \\\n",
      "0                     0       1           2        3                   0   \n",
      "1                     0       0           2        0                   4   \n",
      "2                     1       1           2        0                   1   \n",
      "3                     1       0           2        1                   1   \n",
      "4                     0       1           2        3                   4   \n",
      "\n",
      "   prefer to study in  Do you like your degree?  \\\n",
      "0                   1                         0   \n",
      "1                   1                         1   \n",
      "2                   0                         1   \n",
      "3                   0                         0   \n",
      "4                   1                         1   \n",
      "\n",
      "   willingness to pursue a career based on their degree    \\\n",
      "0                                                  3        \n",
      "1                                                  4        \n",
      "2                                                  3        \n",
      "3                                                  3        \n",
      "4                                                  2        \n",
      "\n",
      "   social medai & video  Travelling Time   Stress Level   Financial Status  \\\n",
      "0                     3                 5              1                 1   \n",
      "1                     1                 0              1                 1   \n",
      "2                     5                 5              0                 1   \n",
      "3                     3                 0              1                 3   \n",
      "4                     3                 5              2                 3   \n",
      "\n",
      "   part-time job  \n",
      "0              0  \n",
      "1              0  \n",
      "2              0  \n",
      "3              0  \n",
      "4              0  \n"
     ]
    }
   ],
   "source": [
    "\n",
    "\n",
    "label_encoder = LabelEncoder()\n",
    "\n",
    "# Fit and transform each categorical column\n",
    "label_encoded_data = data[categorical_cols].apply(label_encoder.fit_transform)\n",
    "\n",
    "# Display the first few rows of the label encoded data\n",
    "print(\"\\nLabel encoded data:\")\n",
    "print(label_encoded_data.head())\n"
   ]
  },
  {
   "cell_type": "markdown",
   "id": "7bcd12ba",
   "metadata": {},
   "source": [
    "## Scaling\n",
    "\n",
    "### Standardization"
   ]
  },
  {
   "cell_type": "code",
   "execution_count": 9,
   "id": "70670a12",
   "metadata": {},
   "outputs": [
    {
     "name": "stdout",
     "output_type": "stream",
     "text": [
      "   Height(CM)  Weight(KG)  10th Mark  12th Mark  college mark  \\\n",
      "0   -2.674221   -0.188631   0.165248  -0.434379      0.595099   \n",
      "1   -3.140096   -1.399601  -0.526009   1.020865     -0.042090   \n",
      "2    0.074441    1.156891  -0.449202  -0.707237     -0.997872   \n",
      "3   -0.484609   -2.745123  -0.526009  -0.889142     -0.806716   \n",
      "4    0.586903   -0.457735  -2.830197  -0.343426     -2.590843   \n",
      "\n",
      "   salary expectation  \n",
      "0            0.067685  \n",
      "1           -0.157383  \n",
      "2           -0.175388  \n",
      "3           13.211657  \n",
      "4            0.157713  \n"
     ]
    }
   ],
   "source": [
    "import pandas as pd\n",
    "from sklearn.preprocessing import StandardScaler, MinMaxScaler\n",
    "\n",
    "data = pd.read_csv(\"Student Attitude and Behavior.csv\")\n",
    "\n",
    "numerical_cols = ['Height(CM)', 'Weight(KG)', '10th Mark', '12th Mark', 'college mark', 'salary expectation']\n",
    "\n",
    "scaler_standard = StandardScaler()\n",
    "standardized_data = scaler_standard.fit_transform(data[numerical_cols])\n",
    "standardized_df = pd.DataFrame(standardized_data, columns=numerical_cols)\n",
    "print(standardized_df.head())\n",
    "\n",
    "\n"
   ]
  },
  {
   "cell_type": "markdown",
   "id": "5177e079",
   "metadata": {},
   "source": [
    "### MIN-MAX Scaling"
   ]
  },
  {
   "cell_type": "code",
   "execution_count": 10,
   "id": "ecfc53de",
   "metadata": {},
   "outputs": [
    {
     "name": "stdout",
     "output_type": "stream",
     "text": [
      "   Height(CM)  Weight(KG)  10th Mark  12th Mark  college mark  \\\n",
      "0    0.509333    0.441860   0.790287   0.387755      0.797980   \n",
      "1    0.456000    0.232558   0.690949   0.714286      0.696970   \n",
      "2    0.824000    0.674419   0.701987   0.326531      0.545455   \n",
      "3    0.760000    0.000000   0.690949   0.285714      0.575758   \n",
      "4    0.882667    0.395349   0.359823   0.408163      0.292929   \n",
      "\n",
      "   salary expectation  \n",
      "0            0.026667  \n",
      "1            0.010000  \n",
      "2            0.008667  \n",
      "3            1.000000  \n",
      "4            0.033333  \n"
     ]
    }
   ],
   "source": [
    "scaler_minmax = MinMaxScaler()\n",
    "minmax_scaled_data = scaler_minmax.fit_transform(data[numerical_cols])\n",
    "minmax_scaled_df = pd.DataFrame(minmax_scaled_data, columns=numerical_cols)\n",
    "print(minmax_scaled_df.head())"
   ]
  },
  {
   "cell_type": "markdown",
   "id": "e39d72d4",
   "metadata": {},
   "source": [
    "## Splitting"
   ]
  },
  {
   "cell_type": "code",
   "execution_count": 11,
   "id": "b8445774",
   "metadata": {},
   "outputs": [
    {
     "name": "stdout",
     "output_type": "stream",
     "text": [
      "Training set shape: (188, 18) (188,)\n",
      "Testing set shape: (47, 18) (47,)\n"
     ]
    }
   ],
   "source": [
    "import pandas as pd\n",
    "from sklearn.model_selection import train_test_split\n",
    "\n",
    "# Load the dataset\n",
    "data = pd.read_csv(\"Student Attitude and Behavior.csv\")\n",
    "\n",
    "# Define features and target variable\n",
    "X = data.drop(columns=['salary expectation'])  # Features\n",
    "y = data['salary expectation']  # Target variable\n",
    "\n",
    "# Split the data into training and testing sets\n",
    "X_train, X_test, y_train, y_test = train_test_split(X, y, test_size=0.2, random_state=42)\n",
    "\n",
    "# Print the shapes of the training and testing sets\n",
    "print(\"Training set shape:\", X_train.shape, y_train.shape)\n",
    "print(\"Testing set shape:\", X_test.shape, y_test.shape)\n"
   ]
  },
  {
   "cell_type": "markdown",
   "id": "3b1ddb16",
   "metadata": {},
   "source": [
    "# 3.Training The ML Models\n",
    "\n",
    "## Linear Regression"
   ]
  },
  {
   "cell_type": "code",
   "execution_count": 14,
   "id": "ebd3f2e3",
   "metadata": {},
   "outputs": [
    {
     "name": "stdout",
     "output_type": "stream",
     "text": [
      "Linear Regression:\n",
      "Mean Squared Error: 4345966265.676295\n"
     ]
    }
   ],
   "source": [
    "import pandas as pd\n",
    "from sklearn.model_selection import train_test_split\n",
    "from sklearn.linear_model import LinearRegression\n",
    "from sklearn.preprocessing import OneHotEncoder\n",
    "from sklearn.compose import ColumnTransformer\n",
    "from sklearn.pipeline import Pipeline\n",
    "from sklearn.metrics import mean_squared_error\n",
    "\n",
    "\n",
    "data = pd.read_csv(\"Student Attitude and Behavior.csv\")\n",
    "\n",
    "X = data.drop(columns=['salary expectation']) \n",
    "y = data['salary expectation']  \n",
    "X_train, X_test, y_train, y_test = train_test_sp\n",
    "lit(X, y, test_size=0.2, random_state=42)\n",
    "\n",
    "\n",
    "categorical_cols = X.select_dtypes(include=['object']).columns\n",
    "categorical_transformer = Pipeline(steps=[\n",
    "    ('onehot', OneHotEncoder(handle_unknown='ignore'))\n",
    "])\n",
    "\n",
    "\n",
    "numerical_cols = X.select_dtypes(include=['int', 'float']).columns\n",
    "\n",
    "preprocessor = ColumnTransformer(\n",
    "    transformers=[\n",
    "        ('num', 'passthrough', numerical_cols),\n",
    "        ('cat', categorical_transformer, categorical_cols)\n",
    "    ])\n",
    "\n",
    "# Linear Regression\n",
    "print(\"Linear Regression:\")\n",
    "lr_pipeline = Pipeline(steps=[\n",
    "    ('preprocessor', preprocessor),\n",
    "    ('regressor', LinearRegression())\n",
    "])\n",
    "\n",
    "lr_pipeline.fit(X_train, y_train)\n",
    "\n",
    "y_pred_lr = lr_pipeline.predict(X_test)\n",
    "\n",
    "# Calculate Mean Squared Error\n",
    "mse_lr = mean_squared_error(y_test, y_pred_lr)\n",
    "print(\"Mean Squared Error:\", mse_lr)\n"
   ]
  },
  {
   "cell_type": "markdown",
   "id": "91a399b4",
   "metadata": {},
   "source": [
    "## Decision Tree Regressor"
   ]
  },
  {
   "cell_type": "code",
   "execution_count": 17,
   "id": "8c6fec90",
   "metadata": {},
   "outputs": [
    {
     "name": "stdout",
     "output_type": "stream",
     "text": [
      "Decision Tree Regressor:\n",
      "Mean Squared Error: 346062787.63829786\n"
     ]
    }
   ],
   "source": [
    "\n",
    "\n",
    "\n",
    "print(\"Decision Tree Regressor:\")\n",
    "dt_pipeline = Pipeline(steps=[\n",
    "    ('preprocessor', preprocessor),\n",
    "    ('regressor', DecisionTreeRegressor(random_state=42))\n",
    "])\n",
    "\n",
    "dt_pipeline.fit(X_train, y_train)\n",
    "\n",
    "y_pred_dt = dt_pipeline.predict(X_test)\n",
    "\n",
    "mse_dt = mean_squared_error(y_test, y_pred_dt)\n",
    "print(\"Mean Squared Error:\", mse_dt)\n"
   ]
  },
  {
   "cell_type": "markdown",
   "id": "195d35d5",
   "metadata": {},
   "source": [
    "## SVR"
   ]
  },
  {
   "cell_type": "code",
   "execution_count": null,
   "id": "ff38165d",
   "metadata": {},
   "outputs": [],
   "source": [
    "svr_pipeline = Pipeline(steps=[\n",
    "    ('preprocessor', preprocessor),\n",
    "    ('regressor', SVR())\n",
    "])\n",
    "\n",
    "svr_pipeline.fit(X_train, y_train)\n",
    "\n",
    "y_pred_svr = svr_pipeline.predict(X_test)\n",
    "\n",
    "# Calculate Mean Squared Error\n",
    "mse_svr = mean_squared_error(y_test, y_pred_svr)\n",
    "print(\"Mean Squared Error:\", mse_svr)"
   ]
  },
  {
   "cell_type": "markdown",
   "id": "76136568",
   "metadata": {},
   "source": [
    "## # K-Nearest Neighbors (KNN)\n"
   ]
  },
  {
   "cell_type": "code",
   "execution_count": 19,
   "id": "de900d85",
   "metadata": {},
   "outputs": [
    {
     "name": "stdout",
     "output_type": "stream",
     "text": [
      "\n",
      "K-Nearest Neighbors (KNN):\n",
      "Mean Squared Error: 1031663550.6417022\n"
     ]
    }
   ],
   "source": [
    " print(\"\\nK-Nearest Neighbors (KNN):\")\n",
    " knn_pipeline = Pipeline(steps=[\n",
    "    ('preprocessor', preprocessor),\n",
    "    ('regressor', KNeighborsRegressor())\n",
    "])\n",
    "\n",
    " knn_pipeline.fit(X_train, y_train)\n",
    "\n",
    " y_pred_knn = knn_pipeline.predict(X_test)\n",
    "\n",
    "# Calculate Mean Squared Error\n",
    "mse_knn = mean_squared_error(y_test, y_pred_knn)\n",
    "print(\"Mean Squared Error:\", mse_knn)"
   ]
  },
  {
   "cell_type": "markdown",
   "id": "c1bb0941",
   "metadata": {},
   "source": [
    "# 4.Hyperparam Optimization"
   ]
  },
  {
   "cell_type": "markdown",
   "id": "41c067db",
   "metadata": {},
   "source": [
    "## Support Vector Machine (SVR) with GridSearchCV:"
   ]
  },
  {
   "cell_type": "code",
   "execution_count": 28,
   "id": "98d91152",
   "metadata": {},
   "outputs": [],
   "source": [
    "from sklearn.model_selection import GridSearchCV\n",
    "\n",
    "svr_pipeline = Pipeline(steps=[\n",
    "    ('preprocessor', preprocessor),\n",
    "    ('regressor', SVR())\n",
    "])"
   ]
  },
  {
   "cell_type": "code",
   "execution_count": 21,
   "id": "b65af734",
   "metadata": {},
   "outputs": [],
   "source": [
    "param_grid_svr = {\n",
    "    'regressor__C': [0.1, 1, 10, 100],\n",
    "    'regressor__epsilon': [0.01, 0.1, 0.5, 1],\n",
    "    'regressor__kernel': ['linear', 'rbf', 'poly'],\n",
    "}\n",
    "\n"
   ]
  },
  {
   "cell_type": "code",
   "execution_count": 22,
   "id": "a97f9175",
   "metadata": {},
   "outputs": [
    {
     "data": {
      "text/plain": [
       "GridSearchCV(cv=5,\n",
       "             estimator=Pipeline(steps=[('preprocessor',\n",
       "                                        ColumnTransformer(transformers=[('num',\n",
       "                                                                         'passthrough',\n",
       "                                                                         Index(['Height(CM)', 'Weight(KG)', '10th Mark', '12th Mark', 'college mark'], dtype='object')),\n",
       "                                                                        ('cat',\n",
       "                                                                         Pipeline(steps=[('onehot',\n",
       "                                                                                          OneHotEncoder(handle_unknown='ignore'))]),\n",
       "                                                                         Index(['Certification Course', 'Gender', 'Department', 'hobbies',\n",
       "       'daily studing t...u like your degree?',\n",
       "       'willingness to pursue a career based on their degree  ',\n",
       "       'social medai & video', 'Travelling Time ', 'Stress Level ',\n",
       "       'Financial Status', 'part-time job'],\n",
       "      dtype='object'))])),\n",
       "                                       ('regressor', SVR())]),\n",
       "             param_grid={'regressor__C': [0.1, 1, 10, 100],\n",
       "                         'regressor__epsilon': [0.01, 0.1, 0.5, 1],\n",
       "                         'regressor__kernel': ['linear', 'rbf', 'poly']},\n",
       "             scoring='neg_mean_squared_error')"
      ]
     },
     "execution_count": 22,
     "metadata": {},
     "output_type": "execute_result"
    }
   ],
   "source": [
    "grid_search_svr = GridSearchCV(svr_pipeline, param_grid=param_grid_svr, cv=5, scoring='neg_mean_squared_error')\n",
    "grid_search_svr.fit(X_train, y_train)"
   ]
  },
  {
   "cell_type": "code",
   "execution_count": 23,
   "id": "44c5822b",
   "metadata": {},
   "outputs": [
    {
     "name": "stdout",
     "output_type": "stream",
     "text": [
      "Best parameters for SVR: {'regressor__C': 0.1, 'regressor__epsilon': 0.01, 'regressor__kernel': 'rbf'}\n",
      "Best score for SVR: 15506133756.023489\n"
     ]
    }
   ],
   "source": [
    "print(\"Best parameters for SVR:\", grid_search_svr.best_params_)\n",
    "print(\"Best score for SVR:\", -grid_search_svr.best_score_)"
   ]
  },
  {
   "cell_type": "markdown",
   "id": "9720bf4a",
   "metadata": {},
   "source": [
    "## Random Forest Regressor with RandomizedSearchCV:\n"
   ]
  },
  {
   "cell_type": "code",
   "execution_count": 24,
   "id": "7d9b497a",
   "metadata": {},
   "outputs": [],
   "source": [
    "from sklearn.model_selection import RandomizedSearchCV\n",
    "from scipy.stats import randint\n",
    "\n",
    "rf_pipeline = Pipeline(steps=[\n",
    "    ('preprocessor', preprocessor),\n",
    "    ('regressor', RandomForestRegressor())\n",
    "])\n",
    "\n",
    "param_dist_rf = {\n",
    "    'regressor__n_estimators': randint(100, 1000),\n",
    "    'regressor__max_features': ['auto', 'sqrt'],\n",
    "    'regressor__max_depth': [None, 10, 20, 30, 40, 50, 60, 70, 80, 90, 100],\n",
    "    'regressor__min_samples_split': [2, 5, 10],\n",
    "    'regressor__min_samples_leaf': [1, 2, 4],\n",
    "    'regressor__bootstrap': [True, False]\n",
    "}"
   ]
  },
  {
   "cell_type": "code",
   "execution_count": 25,
   "id": "d883cb69",
   "metadata": {},
   "outputs": [
    {
     "data": {
      "text/plain": [
       "RandomizedSearchCV(cv=5,\n",
       "                   estimator=Pipeline(steps=[('preprocessor',\n",
       "                                              ColumnTransformer(transformers=[('num',\n",
       "                                                                               'passthrough',\n",
       "                                                                               Index(['Height(CM)', 'Weight(KG)', '10th Mark', '12th Mark', 'college mark'], dtype='object')),\n",
       "                                                                              ('cat',\n",
       "                                                                               Pipeline(steps=[('onehot',\n",
       "                                                                                                OneHotEncoder(handle_unknown='ignore'))]),\n",
       "                                                                               Index(['Certification Course', 'Gender', 'Department', 'hobbies',\n",
       "       'daily st...\n",
       "                   param_distributions={'regressor__bootstrap': [True, False],\n",
       "                                        'regressor__max_depth': [None, 10, 20,\n",
       "                                                                 30, 40, 50, 60,\n",
       "                                                                 70, 80, 90,\n",
       "                                                                 100],\n",
       "                                        'regressor__max_features': ['auto',\n",
       "                                                                    'sqrt'],\n",
       "                                        'regressor__min_samples_leaf': [1, 2,\n",
       "                                                                        4],\n",
       "                                        'regressor__min_samples_split': [2, 5,\n",
       "                                                                         10],\n",
       "                                        'regressor__n_estimators': <scipy.stats._distn_infrastructure.rv_discrete_frozen object at 0x00000165A3D54E50>},\n",
       "                   random_state=42, scoring='neg_mean_squared_error')"
      ]
     },
     "execution_count": 25,
     "metadata": {},
     "output_type": "execute_result"
    }
   ],
   "source": [
    "random_search_rf = RandomizedSearchCV(rf_pipeline, param_distributions=param_dist_rf, n_iter=100, cv=5, scoring='neg_mean_squared_error', random_state=42)\n",
    "random_search_rf.fit(X_train, y_train)"
   ]
  },
  {
   "cell_type": "code",
   "execution_count": 26,
   "id": "9a69f352",
   "metadata": {},
   "outputs": [
    {
     "name": "stdout",
     "output_type": "stream",
     "text": [
      "Best parameters for Random Forest: {'regressor__bootstrap': True, 'regressor__max_depth': 30, 'regressor__max_features': 'sqrt', 'regressor__min_samples_leaf': 4, 'regressor__min_samples_split': 10, 'regressor__n_estimators': 500}\n",
      "Best score for Random Forest: 15451359060.431616\n"
     ]
    }
   ],
   "source": [
    "print(\"Best parameters for Random Forest:\", random_search_rf.best_params_)\n",
    "print(\"Best score for Random Forest:\", -random_search_rf.best_score_)"
   ]
  },
  {
   "cell_type": "code",
   "execution_count": null,
   "id": "f69ecba6",
   "metadata": {},
   "outputs": [],
   "source": []
  }
 ],
 "metadata": {
  "kernelspec": {
   "display_name": "Python 3 (ipykernel)",
   "language": "python",
   "name": "python3"
  },
  "language_info": {
   "codemirror_mode": {
    "name": "ipython",
    "version": 3
   },
   "file_extension": ".py",
   "mimetype": "text/x-python",
   "name": "python",
   "nbconvert_exporter": "python",
   "pygments_lexer": "ipython3",
   "version": "3.9.13"
  }
 },
 "nbformat": 4,
 "nbformat_minor": 5
}
